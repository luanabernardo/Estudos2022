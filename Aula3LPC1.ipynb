{
  "nbformat": 4,
  "nbformat_minor": 0,
  "metadata": {
    "colab": {
      "name": "Aula3LPC1.ipynb",
      "provenance": [],
      "authorship_tag": "ABX9TyNzs8aTyrTxtnpdiHFengqX",
      "include_colab_link": true
    },
    "kernelspec": {
      "name": "python3",
      "display_name": "Python 3"
    },
    "language_info": {
      "name": "python"
    }
  },
  "cells": [
    {
      "cell_type": "markdown",
      "metadata": {
        "id": "view-in-github",
        "colab_type": "text"
      },
      "source": [
        "<a href=\"https://colab.research.google.com/github/luanabernardo/Estudos2022/blob/main/Aula3LPC1.ipynb\" target=\"_parent\"><img src=\"https://colab.research.google.com/assets/colab-badge.svg\" alt=\"Open In Colab\"/></a>"
      ]
    },
    {
      "cell_type": "code",
      "execution_count": 2,
      "metadata": {
        "colab": {
          "base_uri": "https://localhost:8080/"
        },
        "id": "YvxrbW0ZBPFx",
        "outputId": "00a5ed93-0c9a-4362-a514-d62a8cea1585"
      },
      "outputs": [
        {
          "output_type": "stream",
          "name": "stdout",
          "text": [
            "Olá, ETE Porto Digital\n"
          ]
        }
      ],
      "source": [
        "# ETE PORTO DIGITAL \n",
        "# DISCIPLINA : LPC1\n",
        "# PROFESSOR: CLOVES\n",
        "# ESTUDANTE : LUANA \n",
        "\n",
        "print ('Olá, ETE Porto Digital' )"
      ]
    }
  ]
}