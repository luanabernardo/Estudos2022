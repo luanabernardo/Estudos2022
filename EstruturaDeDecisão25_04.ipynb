{
  "nbformat": 4,
  "nbformat_minor": 0,
  "metadata": {
    "colab": {
      "name": "EstruturaDeDecisão25_04.ipynb",
      "provenance": [],
      "authorship_tag": "ABX9TyN9NvADbUwX7MH28/CJck52",
      "include_colab_link": true
    },
    "kernelspec": {
      "name": "python3",
      "display_name": "Python 3"
    },
    "language_info": {
      "name": "python"
    }
  },
  "cells": [
    {
      "cell_type": "markdown",
      "metadata": {
        "id": "view-in-github",
        "colab_type": "text"
      },
      "source": [
        "<a href=\"https://colab.research.google.com/github/luanabernardo/LPC-Python/blob/main/EstruturaDeDecis%C3%A3o25_04.ipynb\" target=\"_parent\"><img src=\"https://colab.research.google.com/assets/colab-badge.svg\" alt=\"Open In Colab\"/></a>"
      ]
    },
    {
      "cell_type": "code",
      "execution_count": null,
      "metadata": {
        "id": "LDf0jTyD_aQZ"
      },
      "outputs": [],
      "source": [
        "n1 = float(input('Digite o primeiro número: '))\n",
        "n2 = float(input('Digite o segundo número: '))\n",
        "if (n1>n2):\n",
        "  print ('O primeiro número é maior:',n1)\n",
        "elif (n2>n1):\n",
        "  print ('O segundo número é maior:',n2)\n",
        "elif (n1==n2):\n",
        "  print ('Os números são iguais')\n"
      ]
    },
    {
      "cell_type": "code",
      "source": [
        "valor = float(input('Digite um número: '))\n",
        "if (valor>0) :\n",
        "  print ('O número é positivo!')\n",
        "elif (valor<0):\n",
        "  print ('O número é negativo!')\n",
        "else:\n",
        "  print ('O número é neutro')"
      ],
      "metadata": {
        "id": "N329LwumBLqf"
      },
      "execution_count": null,
      "outputs": []
    },
    {
      "cell_type": "code",
      "source": [
        "print ('Qual o seu sexo?')\n",
        "sexo = str(input('Digite M para Masculino e F para Feminino: ').upper())\n",
        "if (sexo == 'M'):\n",
        "  print ('Masculino!')\n",
        "elif (sexo == 'F'):\n",
        "  print ('Feminino!')\n",
        "else :\n",
        "  print('Sexo inválido')"
      ],
      "metadata": {
        "id": "dtmN92sxCRJP"
      },
      "execution_count": null,
      "outputs": []
    },
    {
      "cell_type": "code",
      "source": [
        "letra = str(input('Digite somente uma letra: ').upper())\n",
        "if (letra == 'A') or (letra == 'E') or (letra == 'I') or (letra == 'O') or (letra == 'U') :\n",
        "  print ('A letra é uma vogal !')\n",
        "else :\n",
        "  print ('A letra é uma consoante !')"
      ],
      "metadata": {
        "id": "35SouV5GDpgn"
      },
      "execution_count": null,
      "outputs": []
    },
    {
      "cell_type": "code",
      "source": [
        "n1 = float(input('Digite o primeiro número:'))\n",
        "n2 = float(input('Digite o segundo número (Diferente do primeiro):'))\n",
        "n3 = float(input('Digite o terceiro número (Diferente do segundo):'))\n",
        "if (n1>n2) and (n1>n3):\n",
        "  print ('O primeiro número é maior')\n",
        "elif (n2>n1) and (n2>n3):\n",
        "  print ('O segundo número é maior')\n",
        "elif (n3>n1) and (n3>n2):\n",
        "  print ('O terceiro número é maior')\n",
        "else:\n",
        "  print ('Erro!')"
      ],
      "metadata": {
        "id": "PCd8u7BrFURI"
      },
      "execution_count": null,
      "outputs": []
    },
    {
      "cell_type": "code",
      "source": [
        "n1 = float(input('Digite o primeiro número:'))\n",
        "n2 = float(input('Digite o segundo número (Diferente do primeiro):'))\n",
        "n3 = float(input('Digite o terceiro número (Diferente do segundo):'))\n",
        "maior = n1\n",
        "if (n2 > maior):\n",
        "  maior = n2\n",
        "if (n2 > maior):\n",
        "  maior = n3\n",
        "print('Maior: ',maior)\n",
        "menor = n2\n",
        "if (n2 < menor):\n",
        "  menor = n2\n",
        "if (n3 < menor):\n",
        "  menor = n3\n",
        "print('Menor: ', menor)"
      ],
      "metadata": {
        "id": "9P52LoKdHy3x"
      },
      "execution_count": null,
      "outputs": []
    },
    {
      "cell_type": "code",
      "source": [
        "print ('Iremos indicar o produto mais barato!')\n",
        "n1 = float(input('Digite o preço do primeiro produto: '))\n",
        "n2 = float(input('Digite o preço do segundo produto: '))\n",
        "n3 = float(input('Digite o preço do terceiro produto: '))\n",
        "if (n1<n2) and (n1<n3):\n",
        "  print ('Compre o primeiro!')\n",
        "elif (n2<n1) and (n2<n3):\n",
        "  print ('Compre o segundo produto!')\n",
        "elif (n3<n1) and (n3<n2):\n",
        "  print ('Compre o terceiro produto!')\n",
        "else:\n",
        "  print ('Preços iguais')"
      ],
      "metadata": {
        "id": "Cvac1rYiKCxS"
      },
      "execution_count": null,
      "outputs": []
    },
    {
      "cell_type": "code",
      "source": [
        "numeros = []\n",
        "for i in range(0,3):\n",
        "  numero = int(input('Digite um numero: '))\n",
        "  numeros.append(numero)\n",
        "  ordem = sorted(numeros, reverse = True )\n",
        "print(ordem)"
      ],
      "metadata": {
        "id": "DfL9kMpaLZJK"
      },
      "execution_count": null,
      "outputs": []
    },
    {
      "cell_type": "code",
      "source": [
        "print ('Você estuda em qual turno?')\n",
        "turno = str(input( 'M-Matutino' + '\\n'+ 'V-Vespertino'+'\\n'+'N-Noturno'+'\\n'+'Digite apenas a letra correspondente: ').upper())\n",
        "if turno == 'M' :\n",
        "  print('Bom dia!')\n",
        "elif turno == 'V' :\n",
        "  print('Boa tarde!')\n",
        "elif turno == 'N' :\n",
        "  print('Boa noite!')\n",
        "else :\n",
        "  print ('Erro!')\n"
      ],
      "metadata": {
        "id": "0kRzr24qNE67"
      },
      "execution_count": null,
      "outputs": []
    },
    {
      "cell_type": "code",
      "source": [
        "ano = int(input('Digite o ano: '))\n",
        "if (ano%4==0):\n",
        "  print ('Este ano é bissexto')\n",
        "else:\n",
        "  print ('Este ano não é bissexto')"
      ],
      "metadata": {
        "id": "BEHQfLuyyIa2"
      },
      "execution_count": null,
      "outputs": []
    },
    {
      "cell_type": "code",
      "source": [
        "dia = int(input('Digite o dia:'))\n",
        "if (dia>=1 and dia<31):\n",
        "  print('Data válida')\n",
        "else:\n",
        "  print('Data inválida')\n",
        "mes = int(input('Digite o mês:'))\n",
        "if (mes>=1 and mes<12):\n",
        "  print('Data válida')\n",
        "else :\n",
        "  print('Data inválida')\n",
        "ano = int(input('Digite o ano:'))\n",
        "if (ano>1):\n",
        "  print('Data válida')\n",
        "else :\n",
        "  print('Data inválida')\n",
        "#print('A data informada foi:'+ dia + '/' + mes + '/' + ano)\n"
      ],
      "metadata": {
        "id": "3akHjs_szL4-"
      },
      "execution_count": null,
      "outputs": []
    },
    {
      "cell_type": "code",
      "source": [
        "# Faça um programa que faça 5 perguntas para uma pessoa sobre um crime. As perguntas são:\n",
        "#Telefonou para a vítima?\n",
        "#b. \"Esteve no local do crime?\"\n",
        "#c. \"Mora perto da vítima?\"\n",
        "#d. \"Devia para a vítima?\"\n",
        "#e. \"Já trabalhou com a vítima?\" \n",
        "#O programa deve no final emitir uma classificação sobre a participação da pessoa no crime.\n",
        "#Se a pessoa responder positivamente a 2 questões ela deve ser classificada como \"Suspeita\", entre 3 e 4 como \"Cúmplice\" e 5 como \"Assassino\". Caso contrário, ele será classificado como \"Inocente\".\n",
        "print ('Será uma breve entrevista sobre o caso. Responda apenas com sim(ou s) e não'+'\\n' + 'ATENÇÃO: Use apenas letras minúsculas para responder!')\n",
        "qnt = 0\n",
        "p1 = input('Telefonou para a vítima? ')\n",
        "if (p1== 'sim' or p1=='s'):\n",
        "  qnt = qnt+1\n",
        "else:\n",
        "  qnt = qnt+0\n",
        "p2 = input('Esteve no local do crime? ')\n",
        "if (p2== 'sim'or p2=='s'):\n",
        "  qnt = qnt+1\n",
        "else:\n",
        "  qnt=qnt+0\n",
        "p3 = input('Mora perto da vítima? ')\n",
        "if (p3=='sim' or p1=='s'):\n",
        "  qnt = qnt+1\n",
        "else:\n",
        "  qnt=qnt+0\n",
        "p4 = input('Devia para a vítima? ')\n",
        "if (p4== 'sim' or p1=='s'):\n",
        "  qnt = qnt+1\n",
        "else:\n",
        "  qnt=qnt+0\n",
        "p5 = input('Já trabalhou com a vítima? ')\n",
        "if (p5== 'sim' or p2=='s'):\n",
        "  qnt = qnt+1\n",
        "else:\n",
        "  qnt=qnt+0\n",
        "if qnt==2:\n",
        "  print('Suspeito!')\n",
        "elif (qnt==3 or qnt==4):\n",
        "  print('Cúmplice!')\n",
        "elif qnt==5:\n",
        "  print('Assassino!')\n",
        "else:\n",
        "  print('Inocente')"
      ],
      "metadata": {
        "id": "h2YXcKetzMJ9"
      },
      "execution_count": null,
      "outputs": []
    }
  ]
}