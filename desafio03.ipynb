{
  "nbformat": 4,
  "nbformat_minor": 0,
  "metadata": {
    "colab": {
      "name": "desafio03.ipynb",
      "provenance": [],
      "authorship_tag": "ABX9TyPlCrvqXI1Srqw/obspCS9g",
      "include_colab_link": true
    },
    "kernelspec": {
      "name": "python3",
      "display_name": "Python 3"
    },
    "language_info": {
      "name": "python"
    }
  },
  "cells": [
    {
      "cell_type": "markdown",
      "metadata": {
        "id": "view-in-github",
        "colab_type": "text"
      },
      "source": [
        "<a href=\"https://colab.research.google.com/github/luanabernardo/LPC-Python/blob/main/desafio03.ipynb\" target=\"_parent\"><img src=\"https://colab.research.google.com/assets/colab-badge.svg\" alt=\"Open In Colab\"/></a>"
      ]
    },
    {
      "cell_type": "code",
      "execution_count": null,
      "metadata": {
        "id": "QBhPnpTsywBT"
      },
      "outputs": [],
      "source": [
        "nota = float(input('Digite um número de 0 a 10: '))\n",
        "while (nota>10 or nota<0):\n",
        "  print('número inválido')\n",
        "  nota = float(input('Digite um número de 0 a 10'))\n",
        "if (nota<10 or nota<0):\n",
        "  print('O número informado foi: '+ str(nota))"
      ]
    },
    {
      "cell_type": "code",
      "source": [
        "usuario = str(input('Digite o nome de usuário: '))\n",
        "senha = str(input('Digite uma senha: '))\n",
        "while senha==usuario:\n",
        "  print('Senha inválida! A senha deverá ser diferente do usuário.')\n",
        "  senha = str(input('Digite uma senha: '))"
      ],
      "metadata": {
        "id": "UlkkRvXI2DG7"
      },
      "execution_count": null,
      "outputs": []
    },
    {
      "cell_type": "code",
      "source": [
        "a = 80000\n",
        "b = 200000\n",
        "anos = 0\n",
        "taxaa  = 0.03\n",
        "taxab = 0.015\n",
        "while(a < b):\n",
        "  a = a +(a*taxaa)\n",
        "  b = b +(b*taxab)\n",
        "  anos = anos+1\n",
        "print ('O país A irá ultrapassar o número de população do país B em ' + str(anos) + ' anos')\n"
      ],
      "metadata": {
        "id": "ct786izzd22s",
        "colab": {
          "base_uri": "https://localhost:8080/"
        },
        "outputId": "cefaa0e1-070c-4436-9589-89d56407c9d6"
      },
      "execution_count": null,
      "outputs": [
        {
          "output_type": "stream",
          "name": "stdout",
          "text": [
            "O país A irá ultrapassar o número de população do país B em 63 anos\n"
          ]
        }
      ]
    },
    {
      "cell_type": "code",
      "source": [
        "a = int(input('Digite a população do primeiro país: '))\n",
        "b = int(input('Digite a população do segundo país: '))\n",
        "anos = 0\n",
        "taxaa  = 0.03\n",
        "taxab = 0.015\n",
        "while(a < b):\n",
        "  a = a +(a*taxaa)\n",
        "  b = b +(b*taxab)\n",
        "  anos = anos+1\n",
        "print ('O país A irá ultrapassar o número de população do país B em ' + str(anos) + ' anos')"
      ],
      "metadata": {
        "id": "FSRa0xtpkjUn",
        "colab": {
          "base_uri": "https://localhost:8080/"
        },
        "outputId": "9f3ee702-c980-4f0a-f9f0-07b09ba8ec15"
      },
      "execution_count": null,
      "outputs": [
        {
          "output_type": "stream",
          "name": "stdout",
          "text": [
            "Digite a população do primeiro país: 500\n",
            "Digite a população do segundo país: 10000\n",
            "O país A irá ultrapassar o número de população do país B em 205 anos\n"
          ]
        }
      ]
    },
    {
      "cell_type": "code",
      "source": [
        "for a in range(21):\n",
        "  print(a)\n",
        "print(list(range(1,21)))"
      ],
      "metadata": {
        "id": "bhpUg_fQIT5S"
      },
      "execution_count": null,
      "outputs": []
    },
    {
      "cell_type": "code",
      "source": [
        "num=[]\n",
        "for n in range(1,6):\n",
        "  num.append(int(input(\"Digite um numero:\")))\n",
        "maior=num[0]\n",
        "cont=1\n",
        "while cont < len(num):\n",
        "  if num[cont]>maior:\n",
        "      maior=num[cont]\n",
        "  cont= cont + 1\n",
        "print(\"O maior numero é:\"+str(maior))"
      ],
      "metadata": {
        "colab": {
          "base_uri": "https://localhost:8080/"
        },
        "id": "AvuA0AJWI6fK",
        "outputId": "0f0b72a0-9914-44fb-89cf-24f1e03c9a17"
      },
      "execution_count": 7,
      "outputs": [
        {
          "output_type": "stream",
          "name": "stdout",
          "text": [
            "Digite um numero:6\n",
            "Digite um numero:5\n",
            "Digite um numero:4\n",
            "Digite um numero:3\n",
            "Digite um numero:8\n",
            "O maior numero é:8\n"
          ]
        }
      ]
    },
    {
      "cell_type": "code",
      "source": [
        "n1=float(input(\"Digite o primeiro numero: \"))\n",
        "n2=float(input(\"Digite o segundo numero: \"))\n",
        "n3=float(input(\"Digite o terceiro numero: \"))\n",
        "n4=float(input(\"Digite o quarto numero: \"))\n",
        "n5=float(input(\"Digite o quinto numero: \"))\n",
        "soma = n1+n2+n3+n4+n5\n",
        "print(\"A soma dos números = \"+str(soma))\n",
        "print(\"A média dos números é = \"+str(soma/5))"
      ],
      "metadata": {
        "colab": {
          "base_uri": "https://localhost:8080/"
        },
        "id": "9gRjwJhAVZUr",
        "outputId": "54d2f848-0c1a-4987-ac1a-cce5279e7777"
      },
      "execution_count": 8,
      "outputs": [
        {
          "output_type": "stream",
          "name": "stdout",
          "text": [
            "Digite o primeiro numero: 5\n",
            "Digite o segundo numero: 4\n",
            "Digite o terceiro numero: 8\n",
            "Digite o quarto numero: 9\n",
            "Digite o quinto numero: 0\n",
            "A soma dos números = 26.0\n",
            "A média dos números é = 5.2\n"
          ]
        }
      ]
    },
    {
      "cell_type": "code",
      "source": [
        "for n in range(1,51,2):\n",
        "  print(n)"
      ],
      "metadata": {
        "id": "1OdwnQawYtex"
      },
      "execution_count": null,
      "outputs": []
    },
    {
      "cell_type": "code",
      "source": [
        "n1=int(input(\"Digite um número:\"))\n",
        "n2= int(input(\"Digite o segundo número:\"))\n",
        "while(n2<n1):\n",
        "  n1=int(input(\"Digite o primeiro número menor que o segundo:\"))\n",
        "  n2=int(input(\"Digite o segundo número:\"))\n",
        "else:\n",
        "  for n in range(n1,n2,1):\n",
        "    print(n)"
      ],
      "metadata": {
        "id": "sOkF0oNlZC1Z"
      },
      "execution_count": null,
      "outputs": []
    },
    {
      "cell_type": "code",
      "source": [
        "n1=int(input(\"Digite um número:\"))\n",
        "n2= int(input(\"Digite o segundo número:\"))\n",
        "soma = n1+n2\n",
        "while(n2<n1):\n",
        "  n1=int(input(\"Digite o primeiro número menor que o segundo:\"))\n",
        "  n2=int(input(\"Digite o segundo número:\"))\n",
        "else:\n",
        "  for n in range(n1,n2,1):\n",
        "   print(n)\n",
        "print(f'Soma entre eles: {soma}')\n"
      ],
      "metadata": {
        "id": "61tbIS_jaOFq"
      },
      "execution_count": null,
      "outputs": []
    },
    {
      "cell_type": "code",
      "source": [
        "quantidade=int(input(\"Informe a quantidade de CD's:\"))\n",
        "contador = 0 \n",
        "total =0\n",
        "for n in range(quantidade):\n",
        "  valorcd=float(input(\"Digite o valor do cd:\"))\n",
        "  total=total+valorcd\n",
        "  valormedio=total/quantidade\n",
        "  contador =contador +1\n",
        "print(\"O valor total foi de:\"+\" \"+str(total))\n",
        "print(\"O valor médio gasto em cada cd foi de:\"+\" \"+str(valormedio))"
      ],
      "metadata": {
        "colab": {
          "base_uri": "https://localhost:8080/"
        },
        "id": "v42js1uhbejp",
        "outputId": "0c72cf69-79a7-402c-acc8-3923c65885cb"
      },
      "execution_count": 17,
      "outputs": [
        {
          "output_type": "stream",
          "name": "stdout",
          "text": [
            "Informe a quantidade de CD's:6\n",
            "digite o valor do cd:1\n",
            "digite o valor do cd:2\n",
            "digite o valor do cd:4\n",
            "digite o valor do cd:3\n",
            "digite o valor do cd:2\n",
            "digite o valor do cd:2\n",
            "o valor total gasto foi de: 14.0\n",
            "o valor médio gasto por cada cd foi de: 2.3333333333333335\n"
          ]
        }
      ]
    },
    {
      "cell_type": "code",
      "source": [
        "maior=0\n",
        "menor=0\n",
        "alto=0\n",
        "baixo=2.40\n",
        "for n in range(1,11):\n",
        "  numero=int(input(\"Informe seu numero:\"))\n",
        "  altura=float(input(\"Informe sua altura:\"))\n",
        "if(altura>alto):\n",
        "   alto=altura\n",
        "   maior=numero\n",
        "if(altura<baixo):\n",
        "   baixo=altura\n",
        "   menor=numero\n",
        "print(\"Aluno mais alto:\"+\" \"+str(maior)+\" altura:\"+\" \"+str(alto)+\"/Aluno mais baixo:\"+\" \"+str(menor)+\"altura: \"+\" \"+str(baixo))"
      ],
      "metadata": {
        "id": "9JzXiL1kb9Sx"
      },
      "execution_count": null,
      "outputs": []
    },
    {
      "cell_type": "code",
      "source": [
        "n=1\n",
        "contador1=0\n",
        "contador2=0\n",
        "contador3=0\n",
        "contador4=0\n",
        "while n>0:\n",
        "  n=int(input(\"Digite um numero:\"))\n",
        "  if(n>=0 and n<=25):\n",
        "    contador1=contador1+1\n",
        "  elif(n>=26 and n<=50):\n",
        "    contador2=contador2+1\n",
        "  elif(n>=51 and n<=75):\n",
        "    contador3=contador3+1\n",
        "  elif(n>=76 and n<=100):\n",
        "    contador4=contador4+1\n",
        "print(\"A quantidade de numeros entre 0 e 25 é:\"+\" \"+str(contador1)+\",entre 26-50 é:\"+\" \"+str(contador2)+\",entre 51-75 é:\"+\" \"+str(contador3)+\",entre 76 e 100 é"
      ],
      "metadata": {
        "id": "h5NPVugIcz5B"
      },
      "execution_count": null,
      "outputs": []
    },
    {
      "cell_type": "code",
      "source": [
        "soma = 0\n",
        "numero= int(input(\"digite n:\"))\n",
        "m=1\n",
        "print(\"s=\",end=\"\")\n",
        "for i in range(1,n+1):\n",
        "  print(f\"{i}/{m}\", end=\"\")\n",
        "  if i<n and n >1:\n",
        "    print(\"+\",end=\"\")\n",
        "  else:\n",
        "    print(\".\")\n",
        "  soma += i/m\n",
        "  m += 2\n",
        "print(f\"a soma da série deu:\"+str(soma))"
      ],
      "metadata": {
        "id": "GXSHi30Cc_Ho"
      },
      "execution_count": null,
      "outputs": []
    }
  ]
}