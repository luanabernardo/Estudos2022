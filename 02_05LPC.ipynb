{
  "nbformat": 4,
  "nbformat_minor": 0,
  "metadata": {
    "colab": {
      "name": "02_05LPC.ipynb",
      "provenance": [],
      "authorship_tag": "ABX9TyO34/hMfPBUn4ii2qaDplKS",
      "include_colab_link": true
    },
    "kernelspec": {
      "name": "python3",
      "display_name": "Python 3"
    },
    "language_info": {
      "name": "python"
    }
  },
  "cells": [
    {
      "cell_type": "markdown",
      "metadata": {
        "id": "view-in-github",
        "colab_type": "text"
      },
      "source": [
        "<a href=\"https://colab.research.google.com/github/luanabernardo/LPC-Python/blob/main/02_05LPC.ipynb\" target=\"_parent\"><img src=\"https://colab.research.google.com/assets/colab-badge.svg\" alt=\"Open In Colab\"/></a>"
      ]
    },
    {
      "cell_type": "code",
      "execution_count": 12,
      "metadata": {
        "colab": {
          "base_uri": "https://localhost:8080/"
        },
        "id": "OoVqs-p2zz-Q",
        "outputId": "55024bdb-f28d-4ce7-87f8-444e24e0e87a"
      },
      "outputs": [
        {
          "output_type": "stream",
          "name": "stdout",
          "text": [
            "O IMC é: 30.864197530864196\n"
          ]
        }
      ],
      "source": [
        "# ETE PORTO DIGITAL\n",
        "# LPC1\n",
        "# LUANA VITÓRIA\n",
        "# PROF : CLOVES \n",
        "\n",
        "imc = [ 1.80, 100, 40 ]\n",
        "print(\"O IMC é: \" + str(imc[1]/(imc[0]*imc[0] )))"
      ]
    },
    {
      "cell_type": "code",
      "source": [
        "notas = [ 10, 9, 8, 7 ] \n",
        "print(f'A média é: {(sum(notas))/len(notas)}')"
      ],
      "metadata": {
        "colab": {
          "base_uri": "https://localhost:8080/"
        },
        "id": "lL2h4eOB2RrU",
        "outputId": "8b720c71-d39b-4a90-9542-8f5f68f4ede4"
      },
      "execution_count": 15,
      "outputs": [
        {
          "output_type": "stream",
          "name": "stdout",
          "text": [
            "A média é: 8.5\n"
          ]
        }
      ]
    },
    {
      "cell_type": "code",
      "source": [
        "a = ['Bom dia' , 'Boa tarde', 'Boa noite']\n",
        "b = ['Cloves', 'Joao' , 'Pedro']\n",
        "c = ['Como vai?', 'Que horas são?']\n",
        "abc = [a,b,c] \n",
        "print(abc)"
      ],
      "metadata": {
        "colab": {
          "base_uri": "https://localhost:8080/"
        },
        "id": "01nxdxgz8hWe",
        "outputId": "8da997c2-9423-4efd-f2a4-0293373d6c73"
      },
      "execution_count": 16,
      "outputs": [
        {
          "output_type": "stream",
          "name": "stdout",
          "text": [
            "[['Bom dia', 'Boa tarde', 'Boa noite'], ['Cloves', 'Joao', 'Pedro'], ['Como vai?', 'Que horas são?']]\n"
          ]
        }
      ]
    }
  ]
}