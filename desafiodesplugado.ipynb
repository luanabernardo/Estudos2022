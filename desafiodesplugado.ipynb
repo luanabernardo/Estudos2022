{
  "cells": [
    {
      "cell_type": "markdown",
      "metadata": {
        "id": "view-in-github",
        "colab_type": "text"
      },
      "source": [
        "<a href=\"https://colab.research.google.com/github/luanabernardo/Estudos2022/blob/main/desafiodesplugado.ipynb\" target=\"_parent\"><img src=\"https://colab.research.google.com/assets/colab-badge.svg\" alt=\"Open In Colab\"/></a>"
      ]
    },
    {
      "cell_type": "code",
      "execution_count": 14,
      "metadata": {
        "colab": {
          "base_uri": "https://localhost:8080/"
        },
        "id": "7_Kwnj4T2OXs",
        "outputId": "b5f2146b-ae7d-4c9a-f731-77578b117514"
      },
      "outputs": [
        {
          "output_type": "stream",
          "name": "stdout",
          "text": [
            "Pessoa:  1\n",
            "Digite o nome: Joao\n",
            "Pessoa:  2\n",
            "Digite o nome: Maria\n",
            "Pessoa:  3\n",
            "Digite o nome: Jose\n",
            "Pessoa:  4\n",
            "Digite o nome: Carla\n",
            "Pessoa:  5\n",
            "Digite o nome: Pedro\n",
            "Idade:  1\n",
            "Digite a idade: 19\n",
            "Idade:  2\n",
            "Digite a idade: 23\n",
            "Idade:  3\n",
            "Digite a idade: 56\n",
            "Idade:  4\n",
            "Digite a idade: 12\n",
            "Idade:  5\n",
            "Digite a idade: 20\n",
            "['Joao', 'Maria', 'Jose', 'Carla', 'Pedro']\n",
            "['56', '23', '20', '19', '12']\n"
          ]
        }
      ],
      "source": [
        "pessoas = [ ]\n",
        "idades = [ ] \n",
        "for p in range (0,5):\n",
        " print (\"Pessoa: \", p+1)\n",
        " pessoa = input(\"Digite o nome: \")\n",
        " pessoas.append(pessoa) \n",
        "for i in range (0,5): \n",
        " print (\"Idade: \", i+1)  \n",
        " idade = input(\"Digite a idade: \")\n",
        " idades.append(idade)\n",
        " idadeemordem = sorted(idades, reverse = True )\n",
        "print(pessoas)\n",
        "print(idadeemordem)"
      ]
    }
  ],
  "metadata": {
    "colab": {
      "name": "desafiodesplugado.ipynb",
      "provenance": [],
      "authorship_tag": "ABX9TyP15WjvDJ7chje4BZxpCKrR",
      "include_colab_link": true
    },
    "kernelspec": {
      "display_name": "Python 3",
      "name": "python3"
    },
    "language_info": {
      "name": "python"
    }
  },
  "nbformat": 4,
  "nbformat_minor": 0
}