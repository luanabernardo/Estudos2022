{
  "nbformat": 4,
  "nbformat_minor": 0,
  "metadata": {
    "colab": {
      "name": "EstruturaSequencial20/04.ipynb",
      "provenance": [],
      "authorship_tag": "ABX9TyO6lMX5Pojowhy8FdK0im6B",
      "include_colab_link": true
    },
    "kernelspec": {
      "name": "python3",
      "display_name": "Python 3"
    },
    "language_info": {
      "name": "python"
    }
  },
  "cells": [
    {
      "cell_type": "markdown",
      "metadata": {
        "id": "view-in-github",
        "colab_type": "text"
      },
      "source": [
        "<a href=\"https://colab.research.google.com/github/luanabernardo/LPC-Python/blob/main/EstruturaSequencial20_04.ipynb\" target=\"_parent\"><img src=\"https://colab.research.google.com/assets/colab-badge.svg\" alt=\"Open In Colab\"/></a>"
      ]
    },
    {
      "cell_type": "code",
      "source": [
        "print ('Alô, ETE Porto digital')"
      ],
      "metadata": {
        "id": "zMD9kf8RGhoy"
      },
      "execution_count": null,
      "outputs": []
    },
    {
      "cell_type": "code",
      "execution_count": null,
      "metadata": {
        "id": "r6Epnwj4q5ka"
      },
      "outputs": [],
      "source": [
        "numero = input('Digite um número: ')\n",
        "print ('O número informado foi', numero)"
      ]
    },
    {
      "cell_type": "code",
      "source": [
        "n1 = int(input('Digite o primeiro número:'))\n",
        "n2 = int(input('Digite o segundo número:'))\n",
        "soma = (n1+n2)\n",
        "print ('A soma é:' , soma)"
      ],
      "metadata": {
        "id": "NSn7LbDKGHuk"
      },
      "execution_count": null,
      "outputs": []
    },
    {
      "cell_type": "code",
      "source": [
        "n1 = int(input('Digite a primeira nota: '))\n",
        "n2 = int(input('Digite a segunda nota: '))\n",
        "n3 = int(input('Digite a terceira nota: '))\n",
        "n4 = int(input('Digite a quarta nota: '))\n",
        "media = ((n1+n2+n3+n4)/4)\n",
        "print ('A média das notas é: ', media)"
      ],
      "metadata": {
        "id": "7ix4mLgyGNSK"
      },
      "execution_count": null,
      "outputs": []
    },
    {
      "cell_type": "code",
      "source": [
        "metros = float(input('Digite o valor em metros: '))\n",
        "centimetros = float(metros*100)\n",
        "print ('O valor em centímetros é de: ', centimetros)"
      ],
      "metadata": {
        "id": "nF5g6pPoGPtS"
      },
      "execution_count": null,
      "outputs": []
    },
    {
      "cell_type": "code",
      "source": [
        "raio = float(input('Digite o raio do círculo: '))\n",
        "area = (raio ** 2) * 3.14\n",
        "print ('A área do círculo é de: ', area)"
      ],
      "metadata": {
        "id": "qIufIChxGSeC"
      },
      "execution_count": null,
      "outputs": []
    },
    {
      "cell_type": "code",
      "source": [
        "lado = float(input('Digite o lado de um quadrado:' ))\n",
        "area = lado*lado\n",
        "dobro = area*2\n",
        "print ('A área do quadrado é: ',area, 'e o dobro dessa área é: ' ,dobro )"
      ],
      "metadata": {
        "id": "8NdsQcaqGVq6"
      },
      "execution_count": null,
      "outputs": []
    },
    {
      "cell_type": "code",
      "source": [
        "h1 = int(input('Quanto você recebe por hora?'))\n",
        "m1= int(input('Quantas horas você trabalha por mês?'))\n",
        "salario = h1*m1\n",
        "print('Seu salário do mês é de: ', salario)"
      ],
      "metadata": {
        "id": "Y_1zuGPPHYKB"
      },
      "execution_count": null,
      "outputs": []
    },
    {
      "cell_type": "code",
      "source": [
        "f1= int(input('Informe a temperatura em Fahrenheit'))\n",
        "c1 = 5*((f1 - 32)/9)\n",
        "print('Esta temperatura em Celcius é: ', c1)"
      ],
      "metadata": {
        "id": "vSZQN3AGHzcC"
      },
      "execution_count": null,
      "outputs": []
    },
    {
      "cell_type": "code",
      "source": [
        "c1= int(input('Informe a temperatura em Celcius: '))\n",
        "f1 = ((9*c1)/5)+32\n",
        "print('Esta temperatura em Fahrenheit é: ', f1)"
      ],
      "metadata": {
        "id": "FTf_ybPBIAA7"
      },
      "execution_count": null,
      "outputs": []
    },
    {
      "cell_type": "code",
      "source": [
        "ni1=int(input('insira o primeiro número inteiro: '))\n",
        "ni2=int(input('insira o segundo número inteiro: '))\n",
        "ni3=float(input('insira o terceiro número, real: '))\n",
        "n11=(ni1*2)+(ni2/2)\n",
        "print('O dobro do primeiro com metade do segundo: ', n11)\n",
        "n22= 3*ni1+ni3\n",
        "print('A soma do triplo do primeiro com o terceiro: ', n22)\n",
        "n33=ni3**3\n",
        "print('O terceiro elevado ao cubo: ', n33)"
      ],
      "metadata": {
        "id": "cCqmalA9IfFa"
      },
      "execution_count": null,
      "outputs": []
    },
    {
      "cell_type": "code",
      "source": [
        "h1=float(input('insira sua altura: '))\n",
        "p1=(72.7*h1)-58\n",
        "print('Seu peso ideal é de: ', p1)"
      ],
      "metadata": {
        "id": "aOIzkdfEJ5P7"
      },
      "execution_count": null,
      "outputs": []
    },
    {
      "cell_type": "code",
      "source": [
        "p1=float(input('Insira o peso de pescados: '))\n",
        "  \n",
        "if p1 <= 50 :\n",
        "    print(\"Seu peso de pescados está dentro do regulamento de pesca do estado de São Paulo.\")\n",
        "elif p1 > 50 :\n",
        "  excesso = p1 - 50\n",
        "  multa = excesso*4\n",
        "  print('Seu peso em excesso é de: ', excesso)\n",
        "  print('E a sua multa é de: ', multa) \n",
        "else:\n",
        " print('Valor de peso inválido, digite um valor válido.')"
      ],
      "metadata": {
        "id": "sEmAsQW1KcJM"
      },
      "execution_count": null,
      "outputs": []
    },
    {
      "cell_type": "code",
      "source": [
        "h1= float(input('Insira sua altura: '))\n",
        "sexo = int(input('Digite o número de acordo com o seu sexo: 1.Masculino, 2.Feminino: '))\n",
        "homem=(72.7*h1)-58\n",
        "mulher=(62.1*h1)-44.7\n",
        "if sexo == 1 :\n",
        "  print('Seu peso ideal é:', homem)\n",
        "elif sexo == 2 :\n",
        "  print('Seu peso ideal é:', mulher)\n",
        "else :\n",
        "  print('Informação inválida')"
      ],
      "metadata": {
        "id": "gzrQ2YAjKodi"
      },
      "execution_count": null,
      "outputs": []
    },
    {
      "cell_type": "code",
      "source": [
        "mb = float(input('insira o tamanho do arquivo, em MB: '))\n",
        "velo = float(input('insira a velocidade de internet, em mbps: '))\n",
        "tempo = (mb/velo)/60\n",
        "print('O tempo total de download em minutos é de: ', tempo)"
      ],
      "metadata": {
        "id": "H3EcugAtKrZy"
      },
      "execution_count": null,
      "outputs": []
    }
  ]
}