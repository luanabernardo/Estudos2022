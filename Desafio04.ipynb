{
  "nbformat": 4,
  "nbformat_minor": 0,
  "metadata": {
    "colab": {
      "name": "Desafio04.ipynb",
      "provenance": [],
      "authorship_tag": "ABX9TyOGR3hfy5StexfsSd/GVaXU",
      "include_colab_link": true
    },
    "kernelspec": {
      "name": "python3",
      "display_name": "Python 3"
    },
    "language_info": {
      "name": "python"
    }
  },
  "cells": [
    {
      "cell_type": "markdown",
      "metadata": {
        "id": "view-in-github",
        "colab_type": "text"
      },
      "source": [
        "<a href=\"https://colab.research.google.com/github/luanabernardo/LPC-Python/blob/main/Desafio04.ipynb\" target=\"_parent\"><img src=\"https://colab.research.google.com/assets/colab-badge.svg\" alt=\"Open In Colab\"/></a>"
      ]
    },
    {
      "cell_type": "code",
      "execution_count": null,
      "metadata": {
        "id": "CnfDOwg2W7My"
      },
      "outputs": [],
      "source": [
        "# ETE PORTO DIGITAL\n",
        "# LPC1\n",
        "# LUANA VITÓRIA\n",
        "# PROF : CLOVES \n",
        "numeros = []\n",
        "for i in range(0,5):\n",
        "  numero = int(input('Digite um numero: '))\n",
        "  numeros.append(numero)\n",
        "print(numeros)"
      ]
    },
    {
      "cell_type": "code",
      "source": [
        "#2\n",
        "numeros = []\n",
        "for i in range(0,10):\n",
        "  numero = int(input('Digite um numero: '))\n",
        "  numeros.append(numero)\n",
        "  ordem = sorted(numeros, reverse = True )\n",
        "print(ordem)"
      ],
      "metadata": {
        "id": "y1gyHl03Xzoe"
      },
      "execution_count": null,
      "outputs": []
    },
    {
      "cell_type": "code",
      "source": [
        "#3\n",
        "notas = []\n",
        "for n in range (0,4):\n",
        "  nota = float(input('Digite a nota:'))\n",
        "  notas.append(nota)\n",
        "  media = ((sum(notas))/len(notas))\n",
        "print(f'A média dessas notas é: {media}')"
      ],
      "metadata": {
        "colab": {
          "base_uri": "https://localhost:8080/"
        },
        "id": "2j5eDIXdZ7d7",
        "outputId": "945aa360-9fde-44f5-f185-f87f4c63049a"
      },
      "execution_count": 15,
      "outputs": [
        {
          "output_type": "stream",
          "name": "stdout",
          "text": [
            "Digite a nota:9\n",
            "Digite a nota:5\n",
            "Digite a nota:4\n",
            "Digite a nota:3\n",
            "A média dessas notas é: 5.25\n"
          ]
        }
      ]
    },
    {
      "cell_type": "code",
      "source": [
        "#4\n",
        "letra = []\n",
        "cons = 0\n",
        "for x in range(0, 10):\n",
        "  le = str(input('Digite uma letra: ')).upper()\n",
        "  letra.append(le)\n",
        "  if le != 'A' and le!= 'E' and le != 'I' and le != 'O' and le != 'U':\n",
        "    cons = cons + 1\n",
        "print(f'Tem {cons} consoantes !')"
      ],
      "metadata": {
        "colab": {
          "base_uri": "https://localhost:8080/"
        },
        "id": "JLIHd2o1bi1j",
        "outputId": "27b261f4-f8e0-43c6-c2e9-39817029c4da"
      },
      "execution_count": 36,
      "outputs": [
        {
          "output_type": "stream",
          "name": "stdout",
          "text": [
            "Digite uma letra: u\n",
            "Digite uma letra: i\n",
            "Digite uma letra: o\n",
            "Digite uma letra: i\n",
            "Digite uma letra: u\n",
            "Digite uma letra: i\n",
            "Digite uma letra: j\n",
            "Digite uma letra: k\n",
            "Digite uma letra: o\n",
            "Digite uma letra: i\n",
            "Tem 2 consoantes !\n"
          ]
        }
      ]
    },
    {
      "cell_type": "code",
      "source": [
        "#5\n",
        "numeros= []\n",
        "impar = []\n",
        "par = []\n",
        "for n in range(0, 20):\n",
        "  num = int(input('Digite um número:'))\n",
        "  numeros.append(num)\n",
        "print(numeros)\n",
        "for n in range(0, len(numeros)):\n",
        "  if(numeros[i] % 2 == 0):\n",
        "    par.append(numeros[n])\n",
        "  else:\n",
        "    impar.append(numeros[n])\n",
        "print(\"Números pares : \" + str(par))\n",
        "print(\"Números ímpares : \" + str(impar))"
      ],
      "metadata": {
        "id": "t_TFHekVb_lj"
      },
      "execution_count": null,
      "outputs": []
    },
    {
      "cell_type": "code",
      "source": [
        "#6\n",
        "notas = []\n",
        "contador = 1\n",
        "for x in range(0, 10):\n",
        "  n1 = int(input(f'Digite a primeira nota do aluno n°{contador}: '))\n",
        "  n2 = int(input(f'Digite a segunda nota do aluno n°{contador}: '))\n",
        "  n3 = int(input(f'Digite a terceira nota do aluno n°{contador}: '))\n",
        "  n4 = int(input(f'Digite a quarta nota do aluno n°{contador}: '))\n",
        "  media = (n1 + n2 + n3 + n4) / 4\n",
        "  if notas >= 7:\n",
        "    notas.append(media)\n",
        "  contador = contador + 1\n",
        "print(f'Número de alunos com média superior ou igual a 7.0: {len(notas)}')\n"
      ],
      "metadata": {
        "id": "C7-2TF7Bc8oz"
      },
      "execution_count": null,
      "outputs": []
    },
    {
      "cell_type": "code",
      "source": [
        "#7\n",
        "notas = []\n",
        "for n in range (0,5):\n",
        "  nota = float(input('Digite um número:'))\n",
        "  notas.append(nota)\n",
        "print(f'A soma: {sum(notas)}. A multiplicação: {notas[0]*notas[1]*notas[2]*notas[3]*notas[4]}')\n",
        "print(notas)"
      ],
      "metadata": {
        "colab": {
          "base_uri": "https://localhost:8080/"
        },
        "id": "gPLXKaTCd-97",
        "outputId": "63171e8a-d3f9-41e6-d06f-4502bb9b4d2f"
      },
      "execution_count": 24,
      "outputs": [
        {
          "output_type": "stream",
          "name": "stdout",
          "text": [
            "Digite um número:2\n",
            "Digite um número:2\n",
            "Digite um número:2\n",
            "Digite um número:2\n",
            "Digite um número:2\n",
            "A soma: 10.0. A multiplicação: 32.0\n",
            "[2.0, 2.0, 2.0, 2.0, 2.0]\n"
          ]
        }
      ]
    },
    {
      "cell_type": "code",
      "source": [
        "#8\n",
        "idade =[]\n",
        "altura = []\n",
        "for i in range(0,5):\n",
        "  idade.append(float(input('Digite a idade:')))\n",
        "  altura.append(float(input('Digite a altura:')))\n",
        "idade.reverse()\n",
        "altura.reverse()\n",
        "print(f'Alturas: {altura}')\n",
        "print(f'Idades: {idade}')"
      ],
      "metadata": {
        "id": "SE2nFt3ufvOs"
      },
      "execution_count": null,
      "outputs": []
    },
    {
      "cell_type": "code",
      "source": [
        "#9\n",
        "num = []\n",
        "soma = 0\n",
        "for x in range(0, 10):\n",
        "  num.append(int(input('Digite um número: ')))\n",
        "  soma = soma + (num[len(num)-1]**2)\n",
        "print(f'A soma dos quadrados desses números é: {soma}')"
      ],
      "metadata": {
        "colab": {
          "base_uri": "https://localhost:8080/"
        },
        "id": "RudihizohS-B",
        "outputId": "282d7471-924a-482b-fa99-a599e9080723"
      },
      "execution_count": 31,
      "outputs": [
        {
          "output_type": "stream",
          "name": "stdout",
          "text": [
            "Digite um número: 3\n",
            "Digite um número: 2\n",
            "Digite um número: 4\n",
            "Digite um número: 6\n",
            "Digite um número: 7\n",
            "Digite um número: 5\n",
            "Digite um número: 4\n",
            "Digite um número: 3\n",
            "Digite um número: 2\n",
            "Digite um número: 2\n",
            "A soma dos quadrados desses números é: 172\n"
          ]
        }
      ]
    },
    {
      "cell_type": "code",
      "source": [
        "#10\n",
        "l1 = []\n",
        "l2 = []\n",
        "l3 = []\n",
        "for elemento in range(0, 10):\n",
        "  l1.append(int(input('Digite números (Primeira lista): ')))\n",
        "for elemento in range(0, 10):\n",
        "  l2.append(int(input('Digite números (Segunda lista): ')))\n",
        "for elemento in range(0, 10):\n",
        "  l3.append(l1[elemento])\n",
        "  l3.append(l2[elemento])\n",
        "print(l3)"
      ],
      "metadata": {
        "colab": {
          "base_uri": "https://localhost:8080/"
        },
        "id": "uoB5qMyIi-aC",
        "outputId": "8652cf39-ee59-4171-9b40-a189062ce234"
      },
      "execution_count": 32,
      "outputs": [
        {
          "output_type": "stream",
          "name": "stdout",
          "text": [
            "Digite números (Primeira lista): 2\n",
            "Digite números (Primeira lista): 3\n",
            "Digite números (Primeira lista): 3\n",
            "Digite números (Primeira lista): 3\n",
            "Digite números (Primeira lista): 2\n",
            "Digite números (Primeira lista): 2\n",
            "Digite números (Primeira lista): 1\n",
            "Digite números (Primeira lista): 2\n",
            "Digite números (Primeira lista): 3\n",
            "Digite números (Primeira lista): 4\n",
            "Digite números (Segunda lista): 9\n",
            "Digite números (Segunda lista): 8\n",
            "Digite números (Segunda lista): 8\n",
            "Digite números (Segunda lista): 9\n",
            "Digite números (Segunda lista): 7\n",
            "Digite números (Segunda lista): 8\n",
            "Digite números (Segunda lista): 7\n",
            "Digite números (Segunda lista): 8\n",
            "Digite números (Segunda lista): 7\n",
            "Digite números (Segunda lista): 8\n",
            "[2, 9, 3, 8, 3, 8, 3, 9, 2, 7, 2, 8, 1, 7, 2, 8, 3, 7, 4, 8]\n"
          ]
        }
      ]
    }
  ]
}