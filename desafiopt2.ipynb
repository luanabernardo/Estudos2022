{
  "nbformat": 4,
  "nbformat_minor": 0,
  "metadata": {
    "colab": {
      "name": "desafiop2.ipynb",
      "provenance": [],
      "authorship_tag": "ABX9TyNzZkvRcm9qr+eTurgkOu2g",
      "include_colab_link": true
    },
    "kernelspec": {
      "name": "python3",
      "display_name": "Python 3"
    },
    "language_info": {
      "name": "python"
    }
  },
  "cells": [
    {
      "cell_type": "markdown",
      "metadata": {
        "id": "view-in-github",
        "colab_type": "text"
      },
      "source": [
        "<a href=\"https://colab.research.google.com/github/luanabernardo/LPC-Python/blob/main/desafiopt2.ipynb\" target=\"_parent\"><img src=\"https://colab.research.google.com/assets/colab-badge.svg\" alt=\"Open In Colab\"/></a>"
      ]
    },
    {
      "cell_type": "code",
      "execution_count": null,
      "metadata": {
        "id": "Dm_Yt83M-J5B"
      },
      "outputs": [],
      "source": [
        "p1=float(input('Insira o peso de pescados: '))\n",
        "  \n",
        "if p1 <= 50 :\n",
        "    print(\"Seu peso de pescados está dentro do regulamento de pesca do estado de São Paulo.\")\n",
        "elif p1 > 50 :\n",
        "  excesso = p1 - 50\n",
        "  multa = excesso*4\n",
        "  print('Seu peso em excesso é de: ', excesso)\n",
        "  print('E a sua multa é de: ', multa) \n",
        "else:\n",
        " print('Valor de peso inválido, digite um valor válido.')\n"
      ]
    },
    {
      "cell_type": "code",
      "source": [
        "h1= float(input('Insira sua altura: '))\n",
        "sexo = int(input('Digite o número de acordo com o seu sexo: 1.Masculino, 2.Feminino: '))\n",
        "homem=(72.7*h1)-58\n",
        "mulher=(62.1*h1)-44.7\n",
        "if sexo == 1 :\n",
        "  print('Seu peso ideal é:', homem)\n",
        "elif sexo == 2 :\n",
        "  print('Seu peso ideal é:', mulher)\n",
        "else :\n",
        "  print('Informação inválida')\n"
      ],
      "metadata": {
        "id": "Q4oC_E8LAYKz"
      },
      "execution_count": null,
      "outputs": []
    },
    {
      "cell_type": "code",
      "source": [
        "mb = float(input('insira o tamanho do arquivo, em MB: '))\n",
        "velo = float(input('insira a velocidade de internet, em mbps: '))\n",
        "tempo = (mb/velo)/60\n",
        "print('O tempo total de download em minutos é de: ', tempo)"
      ],
      "metadata": {
        "id": "jIatqTkLFCtC"
      },
      "execution_count": null,
      "outputs": []
    }
  ]
}