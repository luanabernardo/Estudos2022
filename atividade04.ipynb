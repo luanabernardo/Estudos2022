{
  "nbformat": 4,
  "nbformat_minor": 0,
  "metadata": {
    "colab": {
      "name": "atividade04.ipynb",
      "provenance": [],
      "authorship_tag": "ABX9TyOM3YUH/gaosbIUX3Rlu87a",
      "include_colab_link": true
    },
    "kernelspec": {
      "name": "python3",
      "display_name": "Python 3"
    },
    "language_info": {
      "name": "python"
    }
  },
  "cells": [
    {
      "cell_type": "markdown",
      "metadata": {
        "id": "view-in-github",
        "colab_type": "text"
      },
      "source": [
        "<a href=\"https://colab.research.google.com/github/luanabernardo/Estudos2022/blob/main/atividade04.ipynb\" target=\"_parent\"><img src=\"https://colab.research.google.com/assets/colab-badge.svg\" alt=\"Open In Colab\"/></a>"
      ]
    },
    {
      "cell_type": "code",
      "execution_count": null,
      "metadata": {
        "colab": {
          "base_uri": "https://localhost:8080/"
        },
        "id": "g_E8kry7D279",
        "outputId": "1770488b-2042-4da6-d9c3-bd97f27fed42"
      },
      "outputs": [
        {
          "output_type": "stream",
          "name": "stdout",
          "text": [
            "Atenção! Só serão aceitos os seguintes comandos:\n",
            "1.Acelerar\n",
            "2.Decolar\n",
            "3.Planar\n",
            "4.Piloto automático\n",
            "5.Pousar\n"
          ]
        }
      ],
      "source": [
        "# ETE PORTO DIGITAL\n",
        "# PROF : CLOVES ROCHA\n",
        "# ALUNA : LUANA VITÓRIA\n",
        "\n",
        "print('Atenção! Só serão aceitos os seguintes comandos:')\n",
        "comandos = ['1.Acelerar', '2.Decolar', '3.Planar', '4.Piloto automático', '5.Pousar']\n",
        "for c in comandos:\n",
        " print(c)\n",
        "\n",
        "while (True):\n",
        " n = int(input('Digite o número do comando:'))\n",
        " if n == 1:\n",
        "  print('Acelerando...')\n",
        " elif n == 2:\n",
        "  print('Decolando...')\n",
        " elif n == 3:\n",
        "  print('Planando...')\n",
        " elif n == 4:\n",
        "  print('Modo: Piloto automático')\n",
        " elif n == 5:\n",
        "  print('Pousando...')\n",
        " else:\n",
        "  print('Erro! Digite um comando existente') "
      ]
    }
  ]
}